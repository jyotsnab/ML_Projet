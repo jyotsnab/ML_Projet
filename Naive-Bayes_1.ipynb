{
 "cells": [
  {
   "cell_type": "code",
   "execution_count": 1,
   "metadata": {
    "collapsed": true
   },
   "outputs": [],
   "source": [
    "import pandas as pd\n",
    "import numpy as np\n"
   ]
  },
  {
   "cell_type": "code",
   "execution_count": 44,
   "metadata": {
    "collapsed": false
   },
   "outputs": [],
   "source": [
    "train = pd.read_csv('C:\\Users\\jyots\\Music\\NovoEd\\CRIME_DATA.csv')\n",
    "HI = pd.read_csv('C:\\Users\\jyots\\Music\\NovoEd\\Book1.csv')"
   ]
  },
  {
   "cell_type": "code",
   "execution_count": 45,
   "metadata": {
    "collapsed": false
   },
   "outputs": [
    {
     "data": {
      "text/plain": [
       "(             Date         Primary Type  Community Area\n",
       " 0   1/4/2017 5:30  MOTOR VEHICLE THEFT               1\n",
       " 1  1/4/2017 13:14    CRIMINAL TRESPASS               1\n",
       " 2  1/4/2017 15:23              BATTERY               1\n",
       " 3  1/4/2017 18:30              BATTERY               1\n",
       " 4  1/4/2017 20:03  MOTOR VEHICLE THEFT               1,    Community Area  HI\n",
       " 0               1  39\n",
       " 1               2  46\n",
       " 2               2  46\n",
       " 3               2  46\n",
       " 4               2  46)"
      ]
     },
     "execution_count": 45,
     "metadata": {},
     "output_type": "execute_result"
    }
   ],
   "source": [
    "train.head(), HI.head()"
   ]
  },
  {
   "cell_type": "code",
   "execution_count": 46,
   "metadata": {
    "collapsed": false
   },
   "outputs": [
    {
     "data": {
      "text/html": [
       "<div>\n",
       "<table border=\"1\" class=\"dataframe\">\n",
       "  <thead>\n",
       "    <tr style=\"text-align: right;\">\n",
       "      <th></th>\n",
       "      <th>Date</th>\n",
       "      <th>Primary Type</th>\n",
       "      <th>Community Area</th>\n",
       "      <th>HI</th>\n",
       "    </tr>\n",
       "  </thead>\n",
       "  <tbody>\n",
       "    <tr>\n",
       "      <th>0</th>\n",
       "      <td>1/4/2017 5:30</td>\n",
       "      <td>MOTOR VEHICLE THEFT</td>\n",
       "      <td>1</td>\n",
       "      <td>39</td>\n",
       "    </tr>\n",
       "    <tr>\n",
       "      <th>1</th>\n",
       "      <td>1/4/2017 13:14</td>\n",
       "      <td>CRIMINAL TRESPASS</td>\n",
       "      <td>1</td>\n",
       "      <td>39</td>\n",
       "    </tr>\n",
       "    <tr>\n",
       "      <th>2</th>\n",
       "      <td>1/4/2017 15:23</td>\n",
       "      <td>BATTERY</td>\n",
       "      <td>1</td>\n",
       "      <td>39</td>\n",
       "    </tr>\n",
       "    <tr>\n",
       "      <th>3</th>\n",
       "      <td>1/4/2017 18:30</td>\n",
       "      <td>BATTERY</td>\n",
       "      <td>1</td>\n",
       "      <td>39</td>\n",
       "    </tr>\n",
       "    <tr>\n",
       "      <th>4</th>\n",
       "      <td>1/4/2017 20:03</td>\n",
       "      <td>MOTOR VEHICLE THEFT</td>\n",
       "      <td>1</td>\n",
       "      <td>39</td>\n",
       "    </tr>\n",
       "  </tbody>\n",
       "</table>\n",
       "</div>"
      ],
      "text/plain": [
       "             Date         Primary Type  Community Area  HI\n",
       "0   1/4/2017 5:30  MOTOR VEHICLE THEFT               1  39\n",
       "1  1/4/2017 13:14    CRIMINAL TRESPASS               1  39\n",
       "2  1/4/2017 15:23              BATTERY               1  39\n",
       "3  1/4/2017 18:30              BATTERY               1  39\n",
       "4  1/4/2017 20:03  MOTOR VEHICLE THEFT               1  39"
      ]
     },
     "execution_count": 46,
     "metadata": {},
     "output_type": "execute_result"
    }
   ],
   "source": [
    "#train = train.merge(HI,on='Community Area',how=\"inner\")\n",
    "train.head()"
   ]
  },
  {
   "cell_type": "code",
   "execution_count": 47,
   "metadata": {
    "collapsed": true
   },
   "outputs": [],
   "source": [
    "category = train['Primary Type']\n",
    "prior_prob=category.value_counts(normalize=True)\n",
    "#prior_prob= pd.DataFrame(prior_prob,columns=['Proir_Prob'])"
   ]
  },
  {
   "cell_type": "code",
   "execution_count": 48,
   "metadata": {
    "collapsed": false
   },
   "outputs": [],
   "source": [
    "prior_prob= pd.DataFrame(prior_prob)\n",
    "prior_prob.columns=['Prior_probs']"
   ]
  },
  {
   "cell_type": "code",
   "execution_count": 49,
   "metadata": {
    "collapsed": false
   },
   "outputs": [],
   "source": [
    "train['Hour']= pd.to_datetime(train['Date']).apply(lambda x: x.hour)"
   ]
  },
  {
   "cell_type": "code",
   "execution_count": 50,
   "metadata": {
    "collapsed": false
   },
   "outputs": [],
   "source": [
    "#likelihood calculations\n",
    "likelihood_hour= pd.crosstab(train['Primary Type'],train.Hour).apply(lambda x: x/x.sum(),axis=1)\n",
    "likelihood_HI = pd.crosstab(train['Primary Type'],train.HI).apply(lambda x: x/x.sum(),axis=1)\n",
    "likelihood_CAN= pd.crosstab(train['Primary Type'],train['Community Area']).apply(lambda x: x/x.sum(),axis=1)\n"
   ]
  },
  {
   "cell_type": "code",
   "execution_count": 51,
   "metadata": {
    "collapsed": false
   },
   "outputs": [],
   "source": [
    "def classify(row):\n",
    "    hour= row['Hour']\n",
    "    HI= row['HI']\n",
    "    CAN = row['Community Area']\n",
    "    \n",
    "    likelihood_hour_sub = likelihood_hour[hour]\n",
    "    likelihood_HI_sub = likelihood_HI[HI]\n",
    "    likelihood_CAN_sub = likelihood_CAN[CAN]\n",
    "    \n",
    "    #probabilities\n",
    "    probabilities = prior_prob.join(likelihood_hour_sub,how=\"inner\").join(likelihood_HI_sub,how=\"inner\").join(likelihood_CAN_sub,how=\"inner\")\n",
    "    probabilities['Probability']= probabilities.prod(axis=1)\n",
    "    probabilities = probabilities.sort('Probability',ascending=False)\n",
    "    \n",
    "    class_label= probabilities.index.values[0]\n",
    "    return(class_label)\n"
   ]
  },
  {
   "cell_type": "code",
   "execution_count": 82,
   "metadata": {
    "collapsed": false
   },
   "outputs": [],
   "source": [
    "from numpy import random\n",
    "n= random.randint(0,(len(train)-500))\n",
    "test = train[n:n+500]\n"
   ]
  },
  {
   "cell_type": "code",
   "execution_count": 83,
   "metadata": {
    "collapsed": false
   },
   "outputs": [
    {
     "name": "stderr",
     "output_type": "stream",
     "text": [
      "C:\\Anaconda2\\lib\\site-packages\\ipykernel\\__main__.py:13: FutureWarning: sort(columns=....) is deprecated, use sort_values(by=.....)\n",
      "C:\\Anaconda2\\lib\\site-packages\\ipykernel\\__main__.py:1: SettingWithCopyWarning: \n",
      "A value is trying to be set on a copy of a slice from a DataFrame.\n",
      "Try using .loc[row_indexer,col_indexer] = value instead\n",
      "\n",
      "See the caveats in the documentation: http://pandas.pydata.org/pandas-docs/stable/indexing.html#indexing-view-versus-copy\n",
      "  if __name__ == '__main__':\n"
     ]
    }
   ],
   "source": [
    "test['ClassLabel'] = test.apply(lambda x: classify(x),axis=1)"
   ]
  },
  {
   "cell_type": "code",
   "execution_count": 70,
   "metadata": {
    "collapsed": false
   },
   "outputs": [
    {
     "data": {
      "text/html": [
       "<div>\n",
       "<table border=\"1\" class=\"dataframe\">\n",
       "  <thead>\n",
       "    <tr style=\"text-align: right;\">\n",
       "      <th></th>\n",
       "      <th>Date</th>\n",
       "      <th>Primary Type</th>\n",
       "      <th>Community Area</th>\n",
       "      <th>HI</th>\n",
       "      <th>Hour</th>\n",
       "      <th>ClassLabel</th>\n",
       "    </tr>\n",
       "  </thead>\n",
       "  <tbody>\n",
       "    <tr>\n",
       "      <th>60666</th>\n",
       "      <td>10/7/2016 15:45</td>\n",
       "      <td>CRIMINAL DAMAGE</td>\n",
       "      <td>25</td>\n",
       "      <td>73</td>\n",
       "      <td>15</td>\n",
       "      <td>BATTERY</td>\n",
       "    </tr>\n",
       "    <tr>\n",
       "      <th>60667</th>\n",
       "      <td>10/7/2016 15:45</td>\n",
       "      <td>CRIMINAL DAMAGE</td>\n",
       "      <td>25</td>\n",
       "      <td>73</td>\n",
       "      <td>15</td>\n",
       "      <td>BATTERY</td>\n",
       "    </tr>\n",
       "    <tr>\n",
       "      <th>60668</th>\n",
       "      <td>10/7/2016 15:45</td>\n",
       "      <td>CRIMINAL DAMAGE</td>\n",
       "      <td>25</td>\n",
       "      <td>73</td>\n",
       "      <td>15</td>\n",
       "      <td>BATTERY</td>\n",
       "    </tr>\n",
       "    <tr>\n",
       "      <th>60669</th>\n",
       "      <td>10/7/2016 15:45</td>\n",
       "      <td>CRIMINAL DAMAGE</td>\n",
       "      <td>25</td>\n",
       "      <td>73</td>\n",
       "      <td>15</td>\n",
       "      <td>BATTERY</td>\n",
       "    </tr>\n",
       "    <tr>\n",
       "      <th>60670</th>\n",
       "      <td>10/7/2016 15:45</td>\n",
       "      <td>CRIMINAL DAMAGE</td>\n",
       "      <td>25</td>\n",
       "      <td>73</td>\n",
       "      <td>15</td>\n",
       "      <td>BATTERY</td>\n",
       "    </tr>\n",
       "  </tbody>\n",
       "</table>\n",
       "</div>"
      ],
      "text/plain": [
       "                  Date     Primary Type  Community Area  HI  Hour ClassLabel\n",
       "60666  10/7/2016 15:45  CRIMINAL DAMAGE              25  73    15    BATTERY\n",
       "60667  10/7/2016 15:45  CRIMINAL DAMAGE              25  73    15    BATTERY\n",
       "60668  10/7/2016 15:45  CRIMINAL DAMAGE              25  73    15    BATTERY\n",
       "60669  10/7/2016 15:45  CRIMINAL DAMAGE              25  73    15    BATTERY\n",
       "60670  10/7/2016 15:45  CRIMINAL DAMAGE              25  73    15    BATTERY"
      ]
     },
     "execution_count": 70,
     "metadata": {},
     "output_type": "execute_result"
    }
   ],
   "source": [
    "test.head()"
   ]
  },
  {
   "cell_type": "code",
   "execution_count": 84,
   "metadata": {
    "collapsed": false
   },
   "outputs": [
    {
     "data": {
      "text/html": [
       "<div>\n",
       "<table border=\"1\" class=\"dataframe\">\n",
       "  <thead>\n",
       "    <tr style=\"text-align: right;\">\n",
       "      <th>ClassLabel</th>\n",
       "      <th>ASSAULT</th>\n",
       "      <th>BATTERY</th>\n",
       "      <th>OTHER OFFENSE</th>\n",
       "    </tr>\n",
       "    <tr>\n",
       "      <th>row_0</th>\n",
       "      <th></th>\n",
       "      <th></th>\n",
       "      <th></th>\n",
       "    </tr>\n",
       "  </thead>\n",
       "  <tbody>\n",
       "    <tr>\n",
       "      <th>181072</th>\n",
       "      <td>0</td>\n",
       "      <td>1</td>\n",
       "      <td>0</td>\n",
       "    </tr>\n",
       "    <tr>\n",
       "      <th>181073</th>\n",
       "      <td>0</td>\n",
       "      <td>1</td>\n",
       "      <td>0</td>\n",
       "    </tr>\n",
       "    <tr>\n",
       "      <th>181074</th>\n",
       "      <td>0</td>\n",
       "      <td>1</td>\n",
       "      <td>0</td>\n",
       "    </tr>\n",
       "    <tr>\n",
       "      <th>181075</th>\n",
       "      <td>0</td>\n",
       "      <td>1</td>\n",
       "      <td>0</td>\n",
       "    </tr>\n",
       "    <tr>\n",
       "      <th>181076</th>\n",
       "      <td>0</td>\n",
       "      <td>1</td>\n",
       "      <td>0</td>\n",
       "    </tr>\n",
       "  </tbody>\n",
       "</table>\n",
       "</div>"
      ],
      "text/plain": [
       "ClassLabel  ASSAULT  BATTERY  OTHER OFFENSE\n",
       "row_0                                      \n",
       "181072            0        1              0\n",
       "181073            0        1              0\n",
       "181074            0        1              0\n",
       "181075            0        1              0\n",
       "181076            0        1              0"
      ]
     },
     "execution_count": 84,
     "metadata": {},
     "output_type": "execute_result"
    }
   ],
   "source": [
    "results = pd.crosstab(test.index,(test['ClassLabel']))\n",
    "results = pd.DataFrame(results)\n",
    "results.head()"
   ]
  },
  {
   "cell_type": "code",
   "execution_count": 85,
   "metadata": {
    "collapsed": false
   },
   "outputs": [],
   "source": [
    "category= prior_prob.index.values\n",
    "predictions= pd.DataFrame(index=test.index,columns=category)\n",
    "predictions= predictions.fillna(0)\n",
    "predictions= (predictions+results).fillna(0)"
   ]
  },
  {
   "cell_type": "code",
   "execution_count": 80,
   "metadata": {
    "collapsed": true
   },
   "outputs": [],
   "source": [
    "predictions.to_csv('C:\\Users\\jyots\\Music/predictions.csv')"
   ]
  },
  {
   "cell_type": "code",
   "execution_count": 86,
   "metadata": {
    "collapsed": false
   },
   "outputs": [
    {
     "data": {
      "text/html": [
       "<div>\n",
       "<table border=\"1\" class=\"dataframe\">\n",
       "  <thead>\n",
       "    <tr style=\"text-align: right;\">\n",
       "      <th></th>\n",
       "      <th>ARSON</th>\n",
       "      <th>ASSAULT</th>\n",
       "      <th>BATTERY</th>\n",
       "      <th>BURGLARY</th>\n",
       "      <th>CONCEALED CARRY LICENSE VIOLATION</th>\n",
       "      <th>CRIM SEXUAL ASSAULT</th>\n",
       "      <th>CRIMINAL DAMAGE</th>\n",
       "      <th>CRIMINAL TRESPASS</th>\n",
       "      <th>DECEPTIVE PRACTICE</th>\n",
       "      <th>GAMBLING</th>\n",
       "      <th>...</th>\n",
       "      <th>OFFENSE INVOLVING CHILDREN</th>\n",
       "      <th>OTHER NARCOTIC VIOLATION</th>\n",
       "      <th>OTHER OFFENSE</th>\n",
       "      <th>PROSTITUTION</th>\n",
       "      <th>PUBLIC PEACE VIOLATION</th>\n",
       "      <th>ROBBERY</th>\n",
       "      <th>SEX OFFENSE</th>\n",
       "      <th>STALKING</th>\n",
       "      <th>THEFT</th>\n",
       "      <th>WEAPONS VIOLATION</th>\n",
       "    </tr>\n",
       "  </thead>\n",
       "  <tbody>\n",
       "    <tr>\n",
       "      <th>181072</th>\n",
       "      <td>0.0</td>\n",
       "      <td>0</td>\n",
       "      <td>1</td>\n",
       "      <td>0.0</td>\n",
       "      <td>0.0</td>\n",
       "      <td>0.0</td>\n",
       "      <td>0.0</td>\n",
       "      <td>0.0</td>\n",
       "      <td>0.0</td>\n",
       "      <td>0.0</td>\n",
       "      <td>...</td>\n",
       "      <td>0.0</td>\n",
       "      <td>0.0</td>\n",
       "      <td>0</td>\n",
       "      <td>0.0</td>\n",
       "      <td>0.0</td>\n",
       "      <td>0.0</td>\n",
       "      <td>0.0</td>\n",
       "      <td>0.0</td>\n",
       "      <td>0.0</td>\n",
       "      <td>0.0</td>\n",
       "    </tr>\n",
       "    <tr>\n",
       "      <th>181073</th>\n",
       "      <td>0.0</td>\n",
       "      <td>0</td>\n",
       "      <td>1</td>\n",
       "      <td>0.0</td>\n",
       "      <td>0.0</td>\n",
       "      <td>0.0</td>\n",
       "      <td>0.0</td>\n",
       "      <td>0.0</td>\n",
       "      <td>0.0</td>\n",
       "      <td>0.0</td>\n",
       "      <td>...</td>\n",
       "      <td>0.0</td>\n",
       "      <td>0.0</td>\n",
       "      <td>0</td>\n",
       "      <td>0.0</td>\n",
       "      <td>0.0</td>\n",
       "      <td>0.0</td>\n",
       "      <td>0.0</td>\n",
       "      <td>0.0</td>\n",
       "      <td>0.0</td>\n",
       "      <td>0.0</td>\n",
       "    </tr>\n",
       "    <tr>\n",
       "      <th>181074</th>\n",
       "      <td>0.0</td>\n",
       "      <td>0</td>\n",
       "      <td>1</td>\n",
       "      <td>0.0</td>\n",
       "      <td>0.0</td>\n",
       "      <td>0.0</td>\n",
       "      <td>0.0</td>\n",
       "      <td>0.0</td>\n",
       "      <td>0.0</td>\n",
       "      <td>0.0</td>\n",
       "      <td>...</td>\n",
       "      <td>0.0</td>\n",
       "      <td>0.0</td>\n",
       "      <td>0</td>\n",
       "      <td>0.0</td>\n",
       "      <td>0.0</td>\n",
       "      <td>0.0</td>\n",
       "      <td>0.0</td>\n",
       "      <td>0.0</td>\n",
       "      <td>0.0</td>\n",
       "      <td>0.0</td>\n",
       "    </tr>\n",
       "    <tr>\n",
       "      <th>181075</th>\n",
       "      <td>0.0</td>\n",
       "      <td>0</td>\n",
       "      <td>1</td>\n",
       "      <td>0.0</td>\n",
       "      <td>0.0</td>\n",
       "      <td>0.0</td>\n",
       "      <td>0.0</td>\n",
       "      <td>0.0</td>\n",
       "      <td>0.0</td>\n",
       "      <td>0.0</td>\n",
       "      <td>...</td>\n",
       "      <td>0.0</td>\n",
       "      <td>0.0</td>\n",
       "      <td>0</td>\n",
       "      <td>0.0</td>\n",
       "      <td>0.0</td>\n",
       "      <td>0.0</td>\n",
       "      <td>0.0</td>\n",
       "      <td>0.0</td>\n",
       "      <td>0.0</td>\n",
       "      <td>0.0</td>\n",
       "    </tr>\n",
       "    <tr>\n",
       "      <th>181076</th>\n",
       "      <td>0.0</td>\n",
       "      <td>0</td>\n",
       "      <td>1</td>\n",
       "      <td>0.0</td>\n",
       "      <td>0.0</td>\n",
       "      <td>0.0</td>\n",
       "      <td>0.0</td>\n",
       "      <td>0.0</td>\n",
       "      <td>0.0</td>\n",
       "      <td>0.0</td>\n",
       "      <td>...</td>\n",
       "      <td>0.0</td>\n",
       "      <td>0.0</td>\n",
       "      <td>0</td>\n",
       "      <td>0.0</td>\n",
       "      <td>0.0</td>\n",
       "      <td>0.0</td>\n",
       "      <td>0.0</td>\n",
       "      <td>0.0</td>\n",
       "      <td>0.0</td>\n",
       "      <td>0.0</td>\n",
       "    </tr>\n",
       "  </tbody>\n",
       "</table>\n",
       "<p>5 rows × 30 columns</p>\n",
       "</div>"
      ],
      "text/plain": [
       "        ARSON  ASSAULT  BATTERY  BURGLARY  CONCEALED CARRY LICENSE VIOLATION  \\\n",
       "181072    0.0        0        1       0.0                                0.0   \n",
       "181073    0.0        0        1       0.0                                0.0   \n",
       "181074    0.0        0        1       0.0                                0.0   \n",
       "181075    0.0        0        1       0.0                                0.0   \n",
       "181076    0.0        0        1       0.0                                0.0   \n",
       "\n",
       "        CRIM SEXUAL ASSAULT  CRIMINAL DAMAGE  CRIMINAL TRESPASS  \\\n",
       "181072                  0.0              0.0                0.0   \n",
       "181073                  0.0              0.0                0.0   \n",
       "181074                  0.0              0.0                0.0   \n",
       "181075                  0.0              0.0                0.0   \n",
       "181076                  0.0              0.0                0.0   \n",
       "\n",
       "        DECEPTIVE PRACTICE  GAMBLING        ...          \\\n",
       "181072                 0.0       0.0        ...           \n",
       "181073                 0.0       0.0        ...           \n",
       "181074                 0.0       0.0        ...           \n",
       "181075                 0.0       0.0        ...           \n",
       "181076                 0.0       0.0        ...           \n",
       "\n",
       "        OFFENSE INVOLVING CHILDREN  OTHER NARCOTIC VIOLATION  OTHER OFFENSE  \\\n",
       "181072                         0.0                       0.0              0   \n",
       "181073                         0.0                       0.0              0   \n",
       "181074                         0.0                       0.0              0   \n",
       "181075                         0.0                       0.0              0   \n",
       "181076                         0.0                       0.0              0   \n",
       "\n",
       "        PROSTITUTION  PUBLIC PEACE VIOLATION  ROBBERY  SEX OFFENSE  STALKING  \\\n",
       "181072           0.0                     0.0      0.0          0.0       0.0   \n",
       "181073           0.0                     0.0      0.0          0.0       0.0   \n",
       "181074           0.0                     0.0      0.0          0.0       0.0   \n",
       "181075           0.0                     0.0      0.0          0.0       0.0   \n",
       "181076           0.0                     0.0      0.0          0.0       0.0   \n",
       "\n",
       "        THEFT  WEAPONS VIOLATION  \n",
       "181072    0.0                0.0  \n",
       "181073    0.0                0.0  \n",
       "181074    0.0                0.0  \n",
       "181075    0.0                0.0  \n",
       "181076    0.0                0.0  \n",
       "\n",
       "[5 rows x 30 columns]"
      ]
     },
     "execution_count": 86,
     "metadata": {},
     "output_type": "execute_result"
    }
   ],
   "source": [
    "predictions.head()"
   ]
  },
  {
   "cell_type": "code",
   "execution_count": null,
   "metadata": {
    "collapsed": true
   },
   "outputs": [],
   "source": []
  }
 ],
 "metadata": {
  "anaconda-cloud": {},
  "kernelspec": {
   "display_name": "Python [conda root]",
   "language": "python",
   "name": "conda-root-py"
  },
  "language_info": {
   "codemirror_mode": {
    "name": "ipython",
    "version": 3
   },
   "file_extension": ".py",
   "mimetype": "text/x-python",
   "name": "python",
   "nbconvert_exporter": "python",
   "pygments_lexer": "ipython3",
   "version": "3.5.2"
  }
 },
 "nbformat": 4,
 "nbformat_minor": 0
}
